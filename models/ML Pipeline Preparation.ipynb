{
 "cells": [
  {
   "attachments": {},
   "cell_type": "markdown",
   "metadata": {},
   "source": [
    "# ML Pipeline Preparation\n",
    "\n",
    "### 1. Import libraries and load data from database.\n",
    "- Import Python libraries\n",
    "- Load dataset from database with [`read_sql_table`](https://pandas.pydata.org/pandas-docs/stable/generated/pandas.read_sql_table.html)\n",
    "- Define feature and target variables X and Y"
   ]
  },
  {
   "cell_type": "code",
   "execution_count": 1,
   "metadata": {},
   "outputs": [
    {
     "name": "stderr",
     "output_type": "stream",
     "text": [
      "[nltk_data] Downloading package punkt to\n",
      "[nltk_data]     C:\\Users\\giris\\AppData\\Roaming\\nltk_data...\n",
      "[nltk_data]   Package punkt is already up-to-date!\n",
      "[nltk_data] Downloading package wordnet to\n",
      "[nltk_data]     C:\\Users\\giris\\AppData\\Roaming\\nltk_data...\n",
      "[nltk_data]   Package wordnet is already up-to-date!\n",
      "[nltk_data] Downloading package stopwords to\n",
      "[nltk_data]     C:\\Users\\giris\\AppData\\Roaming\\nltk_data...\n",
      "[nltk_data]   Package stopwords is already up-to-date!\n",
      "[nltk_data] Downloading package omw-1.4 to\n",
      "[nltk_data]     C:\\Users\\giris\\AppData\\Roaming\\nltk_data...\n",
      "[nltk_data]   Package omw-1.4 is already up-to-date!\n",
      "[nltk_data] Downloading package averaged_perceptron_tagger to\n",
      "[nltk_data]     C:\\Users\\giris\\AppData\\Roaming\\nltk_data...\n",
      "[nltk_data]   Package averaged_perceptron_tagger is already up-to-\n",
      "[nltk_data]       date!\n"
     ]
    }
   ],
   "source": [
    "# import libraries\n",
    "import re\n",
    "import nltk\n",
    "import pandas as pd\n",
    "import warnings\n",
    "from sqlalchemy import create_engine\n",
    "nltk.download(['punkt', 'wordnet', 'stopwords', 'omw-1.4', 'averaged_perceptron_tagger'])\n",
    "from nltk import sent_tokenize, pos_tag\n",
    "from nltk.tokenize import word_tokenize\n",
    "from nltk.stem import WordNetLemmatizer\n",
    "warnings.filterwarnings('ignore')\n",
    "from sklearn.pipeline import Pipeline, FeatureUnion\n",
    "from sklearn.model_selection import train_test_split, GridSearchCV\n",
    "from sklearn.metrics import classification_report\n",
    "from sklearn.feature_extraction.text import CountVectorizer, TfidfTransformer, HashingVectorizer\n",
    "from sklearn.base import BaseEstimator, TransformerMixin\n",
    "from sklearn.ensemble import RandomForestClassifier, AdaBoostClassifier\n",
    "from sklearn.multioutput import MultiOutputClassifier "
   ]
  },
  {
   "cell_type": "code",
   "execution_count": 44,
   "metadata": {},
   "outputs": [],
   "source": [
    "# load data from database\n",
    "engine = create_engine('sqlite:///C:/Users/giris/Documents/Analytics and Modelling/Disaster_Response_Pipeline/data/DisasterResponse.db')\n",
    "df = pd.read_sql_table(\"Disaster_data\",engine)\n",
    "X = df['message']\n",
    "Y = df.iloc[:,4:]"
   ]
  },
  {
   "cell_type": "markdown",
   "metadata": {},
   "source": [
    "### 2. Write a tokenization function to process your text data"
   ]
  },
  {
   "cell_type": "code",
   "execution_count": 45,
   "metadata": {},
   "outputs": [],
   "source": [
    "def tokenize(text):\n",
    "    \"\"\"\n",
    "    Tokenize the text by replacing URLs, removing non-alphanumeric characters, and converting to lowercase.\n",
    "    \n",
    "    Args:\n",
    "    text: The input text to be tokenized.\n",
    "    \n",
    "    Returns:\n",
    "    list: A list of clean tokens.\n",
    "    \"\"\"\n",
    "    \n",
    "    # define URL regex pattern\n",
    "    url_regex = 'http[s]?://(?:[a-zA-Z]|[0-9]|[$-_@.&+]|[!*\\(\\),]|(?:%[0-9a-fA-F][0-9a-fA-F]))+'\n",
    "    \n",
    "    # Replace URLs with a placeholder\n",
    "    detected_urls = re.findall(url_regex, text)\n",
    "    for url in detected_urls:\n",
    "        text = text.replace(url, 'urlplaceholder')\n",
    "\n",
    "    # Remove all non-alphanumeric characters and convert to lowercase\n",
    "    text = re.sub(r\"[^a-zA-Z0-9]\", \" \", text.lower())\n",
    "\n",
    "    # Tokenize the text\n",
    "    tokens = word_tokenize(text)\n",
    "    \n",
    "    # Initialize the lemmatizer\n",
    "    lemmatizer = WordNetLemmatizer()\n",
    "\n",
    "    # Lemmatize and clean tokens\n",
    "    clean_tokens = []\n",
    "    for tok in tokens:\n",
    "        clean_tok = lemmatizer.lemmatize(tok).strip()\n",
    "        clean_tokens.append(clean_tok)\n",
    "    \n",
    "    return clean_tokens"
   ]
  },
  {
   "cell_type": "code",
   "execution_count": 46,
   "metadata": {},
   "outputs": [],
   "source": [
    "class StartingVerbExtractor(BaseEstimator, TransformerMixin):\n",
    "    \"\"\"\n",
    "    Custom transformer that extracts the starting verb of a sentence if there is one\n",
    "\n",
    "    \"\"\"\n",
    "\n",
    "    def starting_verb(self, text):\n",
    "        \"\"\"\n",
    "        Determine if the first word of any sentence in the input text is a verb.\n",
    "        \n",
    "        Args:\n",
    "        text: The input text to be analyzed.\n",
    "        \n",
    "        Returns:\n",
    "        bool: True if any sentence in the input text starts with a verb, otherwise False.\n",
    "        \"\"\"\n",
    "        \n",
    "        # Tokenize the text into sentences\n",
    "        sentence_list = sent_tokenize(text)\n",
    "        \n",
    "        # Iterate through each sentence\n",
    "        for sentence in sentence_list:\n",
    "            # Tokenize and POS-tag the sentence\n",
    "            pos_tags = pos_tag(tokenize(sentence))\n",
    "            \n",
    "            # Check if the list is empty and continue with the next sentence if so\n",
    "            if not pos_tags:\n",
    "                continue\n",
    "            \n",
    "            # Get the first word and its POS-tag\n",
    "            first_word, first_tag = pos_tags[0]\n",
    "            \n",
    "            # Check if the first word is a verb or 'RT' (retweet)\n",
    "            if first_tag in ['VB', 'VBP'] or first_word == 'RT':\n",
    "                return True\n",
    "        \n",
    "        # If no sentence starts with a verb, return False\n",
    "        return False\n",
    "\n",
    "    def fit(self, X, y=None):\n",
    "        return self\n",
    "\n",
    "    def transform(self, X):\n",
    "        \"\"\"\n",
    "        Apply the starting_verb method to each element in the input data\n",
    "        \n",
    "        Args:\n",
    "        X: input data to be transformed\n",
    "        \n",
    "        Returns:\n",
    "        DataFrame: dataFrame containing the results of applying starting_verb to each element in X\n",
    "        \"\"\"\n",
    "        \n",
    "        # Apply the starting_verb method to each element in X\n",
    "        X_tagged = pd.Series(X).apply(self.starting_verb)\n",
    "        \n",
    "        # Convert the series to a DataFrame and return\n",
    "        return pd.DataFrame(X_tagged)"
   ]
  },
  {
   "cell_type": "markdown",
   "metadata": {},
   "source": [
    "### 3. Build a machine learning pipeline\n",
    "This machine pipeline should take in the `message` column as input and output classification results on the other 36 categories in the dataset. You may find the [MultiOutputClassifier](http://scikit-learn.org/stable/modules/generated/sklearn.multioutput.MultiOutputClassifier.html) helpful for predicting multiple target variables."
   ]
  },
  {
   "cell_type": "code",
   "execution_count": 47,
   "metadata": {},
   "outputs": [],
   "source": [
    "pipeline = Pipeline([\n",
    "    # FeatureUnion combines the results of multiple transformer objects\n",
    "    ('feature', FeatureUnion([\n",
    "        # Pipeline for processing the text\n",
    "        ('text', Pipeline([\n",
    "            # Convert the text data into a matrix of token counts using a custom tokenizer function\n",
    "            ('vect', CountVectorizer(tokenizer=tokenize)),\n",
    "            # Apply Term Frequency-Inverse Document Frequency (TF-IDF) normalization\n",
    "            ('tfidf', TfidfTransformer())\n",
    "        ])),\n",
    "        # Custom transformer for extracting the starting verb of a sentence, if there is one\n",
    "        ('starting_verb', StartingVerbExtractor())\n",
    "    ])),\n",
    "    # Use a MultiOutputClassifier with a RandomForestClassifier as the base estimator for handling multi-label classification tasks\n",
    "    ('clf', MultiOutputClassifier(RandomForestClassifier()))\n",
    "])"
   ]
  },
  {
   "cell_type": "markdown",
   "metadata": {},
   "source": [
    "### 4. Train pipeline\n",
    "- Split data into train and test sets\n",
    "- Train pipeline"
   ]
  },
  {
   "cell_type": "code",
   "execution_count": 26,
   "metadata": {},
   "outputs": [],
   "source": [
    "# Split the dataset into training and testing sets \n",
    "X_train, X_test, y_train, y_test = train_test_split(X,Y)"
   ]
  },
  {
   "cell_type": "code",
   "execution_count": 27,
   "metadata": {},
   "outputs": [],
   "source": [
    "# fit te pipeline on the training data\n",
    "pipeline.fit(X_train, y_train)\n",
    "# predictions on test data\n",
    "y_pred = pipeline.predict(X_test) "
   ]
  },
  {
   "cell_type": "markdown",
   "metadata": {},
   "source": [
    "### 5. Test your model\n",
    "Report the f1 score, precision and recall for each output category of the dataset. You can do this by iterating through the columns and calling sklearn's `classification_report` on each."
   ]
  },
  {
   "cell_type": "code",
   "execution_count": 28,
   "metadata": {},
   "outputs": [
    {
     "name": "stdout",
     "output_type": "stream",
     "text": [
      "                        precision    recall  f1-score   support\n",
      "\n",
      "               related       0.82      0.97      0.89      5050\n",
      "               request       0.89      0.43      0.58      1079\n",
      "                 offer       0.00      0.00      0.00        33\n",
      "           aid_related       0.78      0.63      0.69      2706\n",
      "          medical_help       0.76      0.06      0.10       526\n",
      "      medical_products       0.75      0.05      0.10       340\n",
      "     search_and_rescue       0.64      0.04      0.07       197\n",
      "              security       0.00      0.00      0.00       121\n",
      "              military       0.92      0.05      0.10       217\n",
      "                 water       0.87      0.28      0.42       412\n",
      "                  food       0.87      0.50      0.64       726\n",
      "               shelter       0.87      0.27      0.41       583\n",
      "              clothing       0.82      0.09      0.17        95\n",
      "                 money       1.00      0.03      0.05       148\n",
      "        missing_people       1.00      0.01      0.02        79\n",
      "              refugees       0.67      0.01      0.02       211\n",
      "                 death       0.82      0.13      0.22       325\n",
      "             other_aid       0.62      0.02      0.03       884\n",
      "infrastructure_related       0.40      0.00      0.01       437\n",
      "             transport       0.76      0.09      0.16       300\n",
      "             buildings       0.85      0.05      0.09       342\n",
      "           electricity       0.50      0.01      0.03       134\n",
      "                 tools       0.00      0.00      0.00        50\n",
      "             hospitals       0.00      0.00      0.00        73\n",
      "                 shops       0.00      0.00      0.00        30\n",
      "           aid_centers       0.00      0.00      0.00        80\n",
      "  other_infrastructure       0.00      0.00      0.00       294\n",
      "       weather_related       0.87      0.66      0.75      1854\n",
      "                floods       0.90      0.43      0.59       534\n",
      "                 storm       0.78      0.49      0.61       631\n",
      "                  fire       1.00      0.01      0.03        78\n",
      "            earthquake       0.90      0.78      0.83       609\n",
      "                  cold       1.00      0.03      0.05       150\n",
      "         other_weather       0.77      0.03      0.06       349\n",
      "         direct_report       0.88      0.36      0.51      1247\n",
      "\n",
      "             micro avg       0.83      0.51      0.63     20924\n",
      "             macro avg       0.65      0.19      0.24     20924\n",
      "          weighted avg       0.79      0.51      0.55     20924\n",
      "           samples avg       0.70      0.48      0.52     20924\n",
      "\n"
     ]
    },
    {
     "name": "stderr",
     "output_type": "stream",
     "text": [
      "c:\\Users\\giris\\anaconda3\\lib\\site-packages\\sklearn\\metrics\\_classification.py:1318: UndefinedMetricWarning: Precision and F-score are ill-defined and being set to 0.0 in labels with no predicted samples. Use `zero_division` parameter to control this behavior.\n",
      "  _warn_prf(average, modifier, msg_start, len(result))\n",
      "c:\\Users\\giris\\anaconda3\\lib\\site-packages\\sklearn\\metrics\\_classification.py:1318: UndefinedMetricWarning: Precision and F-score are ill-defined and being set to 0.0 in samples with no predicted labels. Use `zero_division` parameter to control this behavior.\n",
      "  _warn_prf(average, modifier, msg_start, len(result))\n",
      "c:\\Users\\giris\\anaconda3\\lib\\site-packages\\sklearn\\metrics\\_classification.py:1318: UndefinedMetricWarning: Recall and F-score are ill-defined and being set to 0.0 in samples with no true labels. Use `zero_division` parameter to control this behavior.\n",
      "  _warn_prf(average, modifier, msg_start, len(result))\n"
     ]
    }
   ],
   "source": [
    "# prints classification report which includes evaluation metrics\n",
    "print(classification_report(y_test.values, y_pred, target_names=Y.columns.values ))"
   ]
  },
  {
   "cell_type": "markdown",
   "metadata": {},
   "source": [
    "### 6. Improve your model\n",
    "Use grid search to find better parameters. "
   ]
  },
  {
   "cell_type": "code",
   "execution_count": 29,
   "metadata": {},
   "outputs": [
    {
     "name": "stdout",
     "output_type": "stream",
     "text": [
      "Fitting 5 folds for each of 4 candidates, totalling 20 fits\n"
     ]
    },
    {
     "data": {
      "text/plain": [
       "GridSearchCV(cv=5,\n",
       "             estimator=Pipeline(steps=[('feature',\n",
       "                                        FeatureUnion(transformer_list=[('text',\n",
       "                                                                        Pipeline(steps=[('vect',\n",
       "                                                                                         CountVectorizer(tokenizer=<function tokenize at 0x0000015DD98C8550>)),\n",
       "                                                                                        ('tfidf',\n",
       "                                                                                         TfidfTransformer())])),\n",
       "                                                                       ('starting_verb',\n",
       "                                                                        StartingVerbExtractor())])),\n",
       "                                       ('clf',\n",
       "                                        MultiOutputClassifier(estimator=RandomForestClassifier()))]),\n",
       "             n_jobs=-1,\n",
       "             param_grid={'clf__estimator__min_samples_split': [2, 4],\n",
       "                         'clf__estimator__n_estimators': [50, 100]},\n",
       "             verbose=2)"
      ]
     },
     "execution_count": 29,
     "metadata": {},
     "output_type": "execute_result"
    }
   ],
   "source": [
    "parameters = {\n",
    "    'clf__estimator__n_estimators': [50, 100],\n",
    "    'clf__estimator__min_samples_split': [2, 4]\n",
    "}\n",
    "cv = GridSearchCV(pipeline, param_grid=parameters, cv=5, verbose=2, n_jobs=-1)\n",
    "\n",
    "# fit the pipeline on training data\n",
    "cv.fit(X_train, y_train)"
   ]
  },
  {
   "cell_type": "markdown",
   "metadata": {},
   "source": [
    "### 7. Test your model\n",
    "Show the accuracy, precision, and recall of the tuned model.  \n",
    "\n",
    "Since this project focuses on code quality, process, and  pipelines, there is no minimum performance metric needed to pass. However, make sure to fine tune your models for accuracy, precision and recall to make your project stand out - especially for your portfolio!"
   ]
  },
  {
   "cell_type": "code",
   "execution_count": 30,
   "metadata": {},
   "outputs": [],
   "source": [
    "# predictions on test data\n",
    "y_pred1 = cv.predict(X_test)"
   ]
  },
  {
   "cell_type": "code",
   "execution_count": 31,
   "metadata": {},
   "outputs": [
    {
     "name": "stdout",
     "output_type": "stream",
     "text": [
      "                        precision    recall  f1-score   support\n",
      "\n",
      "               related       0.82      0.97      0.89      5050\n",
      "               request       0.89      0.44      0.59      1079\n",
      "                 offer       0.00      0.00      0.00        33\n",
      "           aid_related       0.78      0.63      0.70      2706\n",
      "          medical_help       0.64      0.04      0.08       526\n",
      "      medical_products       0.80      0.05      0.09       340\n",
      "     search_and_rescue       0.67      0.02      0.04       197\n",
      "              security       0.00      0.00      0.00       121\n",
      "              military       0.69      0.04      0.08       217\n",
      "                 water       0.91      0.26      0.40       412\n",
      "                  food       0.88      0.41      0.56       726\n",
      "               shelter       0.87      0.30      0.44       583\n",
      "              clothing       0.67      0.06      0.12        95\n",
      "                 money       1.00      0.03      0.05       148\n",
      "        missing_people       0.00      0.00      0.00        79\n",
      "              refugees       0.00      0.00      0.00       211\n",
      "                 death       0.87      0.14      0.24       325\n",
      "             other_aid       0.64      0.02      0.04       884\n",
      "infrastructure_related       0.25      0.00      0.00       437\n",
      "             transport       0.78      0.06      0.11       300\n",
      "             buildings       0.86      0.07      0.13       342\n",
      "           electricity       0.50      0.03      0.06       134\n",
      "                 tools       0.00      0.00      0.00        50\n",
      "             hospitals       0.00      0.00      0.00        73\n",
      "                 shops       0.00      0.00      0.00        30\n",
      "           aid_centers       0.00      0.00      0.00        80\n",
      "  other_infrastructure       0.00      0.00      0.00       294\n",
      "       weather_related       0.87      0.66      0.75      1854\n",
      "                floods       0.88      0.43      0.58       534\n",
      "                 storm       0.77      0.43      0.56       631\n",
      "                  fire       1.00      0.01      0.03        78\n",
      "            earthquake       0.90      0.79      0.84       609\n",
      "                  cold       1.00      0.03      0.06       150\n",
      "         other_weather       0.70      0.02      0.04       349\n",
      "         direct_report       0.86      0.35      0.49      1247\n",
      "\n",
      "             micro avg       0.83      0.50      0.62     20924\n",
      "             macro avg       0.59      0.18      0.23     20924\n",
      "          weighted avg       0.77      0.50      0.54     20924\n",
      "           samples avg       0.70      0.48      0.52     20924\n",
      "\n"
     ]
    },
    {
     "name": "stderr",
     "output_type": "stream",
     "text": [
      "c:\\Users\\giris\\anaconda3\\lib\\site-packages\\sklearn\\metrics\\_classification.py:1318: UndefinedMetricWarning: Precision and F-score are ill-defined and being set to 0.0 in labels with no predicted samples. Use `zero_division` parameter to control this behavior.\n",
      "  _warn_prf(average, modifier, msg_start, len(result))\n",
      "c:\\Users\\giris\\anaconda3\\lib\\site-packages\\sklearn\\metrics\\_classification.py:1318: UndefinedMetricWarning: Precision and F-score are ill-defined and being set to 0.0 in samples with no predicted labels. Use `zero_division` parameter to control this behavior.\n",
      "  _warn_prf(average, modifier, msg_start, len(result))\n",
      "c:\\Users\\giris\\anaconda3\\lib\\site-packages\\sklearn\\metrics\\_classification.py:1318: UndefinedMetricWarning: Recall and F-score are ill-defined and being set to 0.0 in samples with no true labels. Use `zero_division` parameter to control this behavior.\n",
      "  _warn_prf(average, modifier, msg_start, len(result))\n"
     ]
    }
   ],
   "source": [
    "# prints classification report with the evaluation metrics\n",
    "print(classification_report(y_test.values, y_pred1, target_names=Y.columns.values ))"
   ]
  },
  {
   "cell_type": "markdown",
   "metadata": {},
   "source": [
    "### 8. Try improving your model further. Here are a few ideas:\n",
    "* try other machine learning algorithms\n",
    "* add other features besides the TF-IDF"
   ]
  },
  {
   "cell_type": "code",
   "execution_count": 33,
   "metadata": {},
   "outputs": [],
   "source": [
    "pipeline1 = Pipeline([\n",
    "    ('feature', FeatureUnion([\n",
    "    \n",
    "        ('text', Pipeline([\n",
    "            ('vect', HashingVectorizer(tokenizer=tokenize)),\n",
    "            ('tfidf', TfidfTransformer())\n",
    "    \n",
    "    ])),\n",
    "\n",
    "     ('starting_verb', StartingVerbExtractor())\n",
    "\n",
    "    ])),\n",
    "    \n",
    "    ('clf', MultiOutputClassifier(AdaBoostClassifier()))\n",
    "])\n"
   ]
  },
  {
   "cell_type": "code",
   "execution_count": 49,
   "metadata": {},
   "outputs": [],
   "source": [
    "# fit the pipeline on training data\n",
    "pipeline.fit(X_train, y_train)\n",
    "# predictions on test data\n",
    "y_pred2 = pipeline.predict(X_test) "
   ]
  },
  {
   "cell_type": "code",
   "execution_count": 36,
   "metadata": {},
   "outputs": [
    {
     "name": "stdout",
     "output_type": "stream",
     "text": [
      "                        precision    recall  f1-score   support\n",
      "\n",
      "               related       0.82      0.97      0.89      5050\n",
      "               request       0.90      0.43      0.59      1079\n",
      "                 offer       0.00      0.00      0.00        33\n",
      "           aid_related       0.78      0.63      0.70      2706\n",
      "          medical_help       0.79      0.05      0.09       526\n",
      "      medical_products       0.83      0.04      0.08       340\n",
      "     search_and_rescue       0.56      0.03      0.05       197\n",
      "              security       0.00      0.00      0.00       121\n",
      "              military       0.79      0.05      0.10       217\n",
      "                 water       0.93      0.26      0.40       412\n",
      "                  food       0.88      0.45      0.59       726\n",
      "               shelter       0.86      0.22      0.35       583\n",
      "              clothing       0.60      0.06      0.11        95\n",
      "                 money       1.00      0.03      0.05       148\n",
      "        missing_people       0.00      0.00      0.00        79\n",
      "              refugees       0.33      0.00      0.01       211\n",
      "                 death       0.84      0.11      0.20       325\n",
      "             other_aid       0.62      0.02      0.03       884\n",
      "infrastructure_related       0.00      0.00      0.00       437\n",
      "             transport       0.80      0.08      0.15       300\n",
      "             buildings       0.93      0.07      0.14       342\n",
      "           electricity       0.33      0.01      0.03       134\n",
      "                 tools       0.00      0.00      0.00        50\n",
      "             hospitals       0.00      0.00      0.00        73\n",
      "                 shops       0.00      0.00      0.00        30\n",
      "           aid_centers       0.00      0.00      0.00        80\n",
      "  other_infrastructure       0.25      0.00      0.01       294\n",
      "       weather_related       0.87      0.65      0.75      1854\n",
      "                floods       0.91      0.33      0.48       534\n",
      "                 storm       0.77      0.49      0.60       631\n",
      "                  fire       0.00      0.00      0.00        78\n",
      "            earthquake       0.91      0.70      0.79       609\n",
      "                  cold       0.90      0.06      0.11       150\n",
      "         other_weather       0.75      0.02      0.03       349\n",
      "         direct_report       0.87      0.36      0.51      1247\n",
      "\n",
      "             micro avg       0.83      0.50      0.62     20924\n",
      "             macro avg       0.57      0.18      0.22     20924\n",
      "          weighted avg       0.77      0.50      0.54     20924\n",
      "           samples avg       0.70      0.47      0.52     20924\n",
      "\n"
     ]
    },
    {
     "name": "stderr",
     "output_type": "stream",
     "text": [
      "c:\\Users\\giris\\anaconda3\\lib\\site-packages\\sklearn\\metrics\\_classification.py:1318: UndefinedMetricWarning: Precision and F-score are ill-defined and being set to 0.0 in labels with no predicted samples. Use `zero_division` parameter to control this behavior.\n",
      "  _warn_prf(average, modifier, msg_start, len(result))\n",
      "c:\\Users\\giris\\anaconda3\\lib\\site-packages\\sklearn\\metrics\\_classification.py:1318: UndefinedMetricWarning: Precision and F-score are ill-defined and being set to 0.0 in samples with no predicted labels. Use `zero_division` parameter to control this behavior.\n",
      "  _warn_prf(average, modifier, msg_start, len(result))\n",
      "c:\\Users\\giris\\anaconda3\\lib\\site-packages\\sklearn\\metrics\\_classification.py:1318: UndefinedMetricWarning: Recall and F-score are ill-defined and being set to 0.0 in samples with no true labels. Use `zero_division` parameter to control this behavior.\n",
      "  _warn_prf(average, modifier, msg_start, len(result))\n"
     ]
    }
   ],
   "source": [
    "# print classification with the evalution metrics\n",
    "print(classification_report(y_test.values, y_pred2, target_names=Y.columns.values ))"
   ]
  },
  {
   "cell_type": "markdown",
   "metadata": {},
   "source": [
    "### 9. Export your model as a pickle file"
   ]
  },
  {
   "cell_type": "code",
   "execution_count": null,
   "metadata": {},
   "outputs": [],
   "source": []
  },
  {
   "cell_type": "markdown",
   "metadata": {},
   "source": [
    "### 10. Use this notebook to complete `train.py`\n",
    "Use the template file attached in the Resources folder to write a script that runs the steps above to create a database and export a model based on a new dataset specified by the user."
   ]
  }
 ],
 "metadata": {
  "kernelspec": {
   "display_name": "Python 3",
   "language": "python",
   "name": "python3"
  },
  "language_info": {
   "codemirror_mode": {
    "name": "ipython",
    "version": 3
   },
   "file_extension": ".py",
   "mimetype": "text/x-python",
   "name": "python",
   "nbconvert_exporter": "python",
   "pygments_lexer": "ipython3",
   "version": "3.9.13"
  }
 },
 "nbformat": 4,
 "nbformat_minor": 2
}
